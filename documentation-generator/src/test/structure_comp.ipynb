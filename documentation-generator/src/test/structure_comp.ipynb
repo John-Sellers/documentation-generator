{
 "cells": [
  {
   "cell_type": "code",
   "execution_count": 1,
   "id": "13636d5a",
   "metadata": {},
   "outputs": [],
   "source": [
    "import sys\n",
    "import os\n",
    "import json\n",
    "\n",
    "# Add project root to Python path so that modules can be imported\n",
    "sys.path.append(os.path.abspath(os.path.join(\"..\", \"..\")))\n",
    "\n",
    "from app.parser import parse_directory"
   ]
  },
  {
   "cell_type": "code",
   "execution_count": 2,
   "id": "8c32ee8e",
   "metadata": {},
   "outputs": [
    {
     "name": "stdout",
     "output_type": "stream",
     "text": [
      "/workspaces/documentation-generator/app/test\n"
     ]
    }
   ],
   "source": [
    "# Print current working directory\n",
    "print(os.getcwd())"
   ]
  },
  {
   "cell_type": "code",
   "execution_count": 5,
   "id": "caa08b35",
   "metadata": {},
   "outputs": [
    {
     "name": "stderr",
     "output_type": "stream",
     "text": [
      "2025-07-30 21:59:55,912 [INFO] Scanning directory: ..\n",
      "2025-07-30 21:59:55,914 [INFO] Processing file: ../__init__.py\n",
      "2025-07-30 21:59:55,915 [INFO] Processing file: ../llm.py\n",
      "2025-07-30 21:59:55,916 [INFO] Processing file: ../parser.py\n",
      "2025-07-30 21:59:55,918 [INFO] Processing file: ../main.py\n",
      "2025-07-30 21:59:55,919 [INFO] Processing file: ../test/ast_test_example.py\n"
     ]
    },
    {
     "name": "stdout",
     "output_type": "stream",
     "text": [
      "[\n",
      "  {\n",
      "    \"file\": \"../__init__.py\",\n",
      "    \"classes\": [],\n",
      "    \"functions\": []\n",
      "  },\n",
      "  {\n",
      "    \"file\": \"../llm.py\",\n",
      "    \"classes\": [],\n",
      "    \"functions\": [\n",
      "      {\n",
      "        \"name\": \"mock_summarize_function\",\n",
      "        \"args\": [\n",
      "          \"func_name\",\n",
      "          \"docstring\",\n",
      "          \"args\"\n",
      "        ],\n",
      "        \"docstring\": \"Generate a fake summary to simulate LLM behavior.\"\n",
      "      },\n",
      "      {\n",
      "        \"name\": \"summarize_module_structure\",\n",
      "        \"args\": [\n",
      "          \"parsed_structure\",\n",
      "          \"use_mock\"\n",
      "        ],\n",
      "        \"docstring\": \"Given a parsed result from parser.py, add summaries to each element.\"\n",
      "      }\n",
      "    ]\n",
      "  },\n",
      "  {\n",
      "    \"file\": \"../parser.py\",\n",
      "    \"classes\": [],\n",
      "    \"functions\": [\n",
      "      {\n",
      "        \"name\": \"extract_definitions_from_file\",\n",
      "        \"args\": [\n",
      "          \"file_path\"\n",
      "        ],\n",
      "        \"docstring\": null\n",
      "      },\n",
      "      {\n",
      "        \"name\": \"parse_directory\",\n",
      "        \"args\": [\n",
      "          \"root_dir\"\n",
      "        ],\n",
      "        \"docstring\": \"Walks a directory and parses all .py files.\"\n",
      "      }\n",
      "    ]\n",
      "  },\n",
      "  {\n",
      "    \"file\": \"../main.py\",\n",
      "    \"classes\": [],\n",
      "    \"functions\": []\n",
      "  },\n",
      "  {\n",
      "    \"file\": \"../test/ast_test_example.py\",\n",
      "    \"classes\": [\n",
      "      {\n",
      "        \"name\": \"Greeter\",\n",
      "        \"docstring\": \"Greets people.\",\n",
      "        \"methods\": [\n",
      "          {\n",
      "            \"name\": \"say_hello\",\n",
      "            \"args\": [\n",
      "              \"self\",\n",
      "              \"name\"\n",
      "            ],\n",
      "            \"docstring\": \"Says hello.\"\n",
      "          }\n",
      "        ]\n",
      "      }\n",
      "    ],\n",
      "    \"functions\": [\n",
      "      {\n",
      "        \"name\": \"say_goodbye\",\n",
      "        \"args\": [\n",
      "          \"name\"\n",
      "        ],\n",
      "        \"docstring\": null\n",
      "      }\n",
      "    ]\n",
      "  }\n",
      "]\n"
     ]
    }
   ],
   "source": [
    "results = parse_directory(\"..\")\n",
    "print(json.dumps(results, indent=2))"
   ]
  },
  {
   "cell_type": "code",
   "execution_count": null,
   "id": "838ee7da",
   "metadata": {},
   "outputs": [],
   "source": []
  }
 ],
 "metadata": {
  "kernelspec": {
   "display_name": "Python 3",
   "language": "python",
   "name": "python3"
  },
  "language_info": {
   "codemirror_mode": {
    "name": "ipython",
    "version": 3
   },
   "file_extension": ".py",
   "mimetype": "text/x-python",
   "name": "python",
   "nbconvert_exporter": "python",
   "pygments_lexer": "ipython3",
   "version": "3.10.0"
  }
 },
 "nbformat": 4,
 "nbformat_minor": 5
}
